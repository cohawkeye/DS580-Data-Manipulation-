{
 "cells": [
  {
   "cell_type": "markdown",
   "metadata": {},
   "source": [
    "# PewRel2019\n",
    "\n",
    "<img src='images/PF_20.09.12_teens_featured.webp'>\n",
    "<i>Image from <a href=\"https://www.pewresearch.org/religion/wp-content/uploads/sites/7/2020/09/PF_20.09.12_teens_featured.jpg?resize=640,360\">Pew Research</a></i>\n",
    "\n",
    "The Pew Research Center is a nonpartisan think tank that conducts research and polling on a variety of issues, including religion. In this notebook we conceptually replicate analyses from their 2019 report [\"U.S. Teens Take After Their Parents Religiously, Attend Services Together and Enjoy Family Rituals\"](https://www.pewresearch.org/religion/2020/09/10/u-s-teens-take-after-their-parents-religiously-attend-services-together-and-enjoy-family-rituals/) \n",
    "\n",
    "You can read about their methodology [here.](https://www.pewresearch.org/religion/2020/09/10/methodology-34/)  You will need to download their questions [here.](https://www.pewresearch.org/religion/wp-content/uploads/sites/7/2020/09/PF_09.10.20_teens.religion.topline.pdf) \n",
    "\n",
    "You will be provided the data and codebook, but you can download it or other Pew data by [registering for an account.](https://www.pewresearch.org/profile/registration/) (They have a lot of great stuff!)\n",
    "\n",
    "First, download the notebook and SPSS file titled `US Teens and their parents - 2019 Pew Research Survey - FOR RELEASE.sav` and place them in the same folder.\n",
    "\n",
    "Note: there will be some slight differences in our calculations and those provided by the research center report.  This is due to weightings we are not privy to, but we'll get pretty close regardless.  Additionally, for educational purposes we will sometime not do things  in the most efficient way.  If you can do it more quickly, great!"
   ]
  },
  {
   "cell_type": "markdown",
   "metadata": {},
   "source": [
    "### Initial Install\n",
    "\n",
    "Will need to install pyreadstat\n",
    "\n",
    "`pip install pyreadstat`\n",
    "\n",
    "or\n",
    "\n",
    "`conda install pyreadstat`\n",
    "\n",
    "<span style=color:red>Note: A few students have issues trying to install pyreadstat.  If that is the case with you, we created a csv file with this data, and you can use the following code to load the data instead:</span>\n",
    "```\n",
    "pewdata = pd.read_csv('pew_data.csv')\n",
    "```"
   ]
  },
  {
   "cell_type": "markdown",
   "metadata": {},
   "source": [
    "### Initial Imports"
   ]
  },
  {
   "cell_type": "code",
   "execution_count": 11,
   "metadata": {},
   "outputs": [],
   "source": [
    "#import common libraries\n",
    "\n",
    "import numpy as np\n",
    "import pandas as pd"
   ]
  },
  {
   "cell_type": "code",
   "execution_count": 15,
   "metadata": {},
   "outputs": [
    {
     "name": "stdout",
     "output_type": "stream",
     "text": [
      "Requirement already satisfied: pyreadstat in /opt/anaconda3/lib/python3.12/site-packages (1.3.0)\n",
      "Requirement already satisfied: pandas>=1.2.0 in /opt/anaconda3/lib/python3.12/site-packages (from pyreadstat) (2.2.2)\n",
      "Requirement already satisfied: numpy>=1.26.0 in /opt/anaconda3/lib/python3.12/site-packages (from pandas>=1.2.0->pyreadstat) (1.26.4)\n",
      "Requirement already satisfied: python-dateutil>=2.8.2 in /opt/anaconda3/lib/python3.12/site-packages (from pandas>=1.2.0->pyreadstat) (2.9.0.post0)\n",
      "Requirement already satisfied: pytz>=2020.1 in /opt/anaconda3/lib/python3.12/site-packages (from pandas>=1.2.0->pyreadstat) (2024.1)\n",
      "Requirement already satisfied: tzdata>=2022.7 in /opt/anaconda3/lib/python3.12/site-packages (from pandas>=1.2.0->pyreadstat) (2023.3)\n",
      "Requirement already satisfied: six>=1.5 in /opt/anaconda3/lib/python3.12/site-packages (from python-dateutil>=2.8.2->pandas>=1.2.0->pyreadstat) (1.16.0)\n"
     ]
    }
   ],
   "source": [
    "!pip install pyreadstat\n"
   ]
  },
  {
   "cell_type": "code",
   "execution_count": 17,
   "metadata": {
    "code_folding": [],
    "scrolled": true
   },
   "outputs": [
    {
     "ename": "ImportError",
     "evalue": "Missing optional dependency 'pyreadstat'.  Use pip or conda to install pyreadstat.",
     "output_type": "error",
     "traceback": [
      "\u001b[0;31m---------------------------------------------------------------------------\u001b[0m",
      "\u001b[0;31mModuleNotFoundError\u001b[0m                       Traceback (most recent call last)",
      "File \u001b[0;32m~/anaconda3/lib/python3.12/site-packages/pandas/compat/_optional.py:135\u001b[0m, in \u001b[0;36mimport_optional_dependency\u001b[0;34m(name, extra, errors, min_version)\u001b[0m\n\u001b[1;32m    134\u001b[0m \u001b[38;5;28;01mtry\u001b[39;00m:\n\u001b[0;32m--> 135\u001b[0m     module \u001b[38;5;241m=\u001b[39m importlib\u001b[38;5;241m.\u001b[39mimport_module(name)\n\u001b[1;32m    136\u001b[0m \u001b[38;5;28;01mexcept\u001b[39;00m \u001b[38;5;167;01mImportError\u001b[39;00m:\n",
      "File \u001b[0;32m~/anaconda3/lib/python3.12/importlib/__init__.py:90\u001b[0m, in \u001b[0;36mimport_module\u001b[0;34m(name, package)\u001b[0m\n\u001b[1;32m     89\u001b[0m         level \u001b[38;5;241m+\u001b[39m\u001b[38;5;241m=\u001b[39m \u001b[38;5;241m1\u001b[39m\n\u001b[0;32m---> 90\u001b[0m \u001b[38;5;28;01mreturn\u001b[39;00m _bootstrap\u001b[38;5;241m.\u001b[39m_gcd_import(name[level:], package, level)\n",
      "File \u001b[0;32m<frozen importlib._bootstrap>:1387\u001b[0m, in \u001b[0;36m_gcd_import\u001b[0;34m(name, package, level)\u001b[0m\n",
      "File \u001b[0;32m<frozen importlib._bootstrap>:1360\u001b[0m, in \u001b[0;36m_find_and_load\u001b[0;34m(name, import_)\u001b[0m\n",
      "File \u001b[0;32m<frozen importlib._bootstrap>:1324\u001b[0m, in \u001b[0;36m_find_and_load_unlocked\u001b[0;34m(name, import_)\u001b[0m\n",
      "\u001b[0;31mModuleNotFoundError\u001b[0m: No module named 'pyreadstat'",
      "\nDuring handling of the above exception, another exception occurred:\n",
      "\u001b[0;31mImportError\u001b[0m                               Traceback (most recent call last)",
      "Cell \u001b[0;32mIn[17], line 3\u001b[0m\n\u001b[1;32m      1\u001b[0m \u001b[38;5;66;03m#import data from SPSS\u001b[39;00m\n\u001b[0;32m----> 3\u001b[0m pewdata \u001b[38;5;241m=\u001b[39m pd\u001b[38;5;241m.\u001b[39mread_spss(\u001b[38;5;124m'\u001b[39m\u001b[38;5;124mUS Teens and their parents - 2019 Pew Research Survey - FOR RELEASE.sav\u001b[39m\u001b[38;5;124m'\u001b[39m)\n",
      "File \u001b[0;32m~/anaconda3/lib/python3.12/site-packages/pandas/io/spss.py:58\u001b[0m, in \u001b[0;36mread_spss\u001b[0;34m(path, usecols, convert_categoricals, dtype_backend)\u001b[0m\n\u001b[1;32m     22\u001b[0m \u001b[38;5;28;01mdef\u001b[39;00m \u001b[38;5;21mread_spss\u001b[39m(\n\u001b[1;32m     23\u001b[0m     path: \u001b[38;5;28mstr\u001b[39m \u001b[38;5;241m|\u001b[39m Path,\n\u001b[1;32m     24\u001b[0m     usecols: Sequence[\u001b[38;5;28mstr\u001b[39m] \u001b[38;5;241m|\u001b[39m \u001b[38;5;28;01mNone\u001b[39;00m \u001b[38;5;241m=\u001b[39m \u001b[38;5;28;01mNone\u001b[39;00m,\n\u001b[1;32m     25\u001b[0m     convert_categoricals: \u001b[38;5;28mbool\u001b[39m \u001b[38;5;241m=\u001b[39m \u001b[38;5;28;01mTrue\u001b[39;00m,\n\u001b[1;32m     26\u001b[0m     dtype_backend: DtypeBackend \u001b[38;5;241m|\u001b[39m lib\u001b[38;5;241m.\u001b[39mNoDefault \u001b[38;5;241m=\u001b[39m lib\u001b[38;5;241m.\u001b[39mno_default,\n\u001b[1;32m     27\u001b[0m ) \u001b[38;5;241m-\u001b[39m\u001b[38;5;241m>\u001b[39m DataFrame:\n\u001b[1;32m     28\u001b[0m \u001b[38;5;250m    \u001b[39m\u001b[38;5;124;03m\"\"\"\u001b[39;00m\n\u001b[1;32m     29\u001b[0m \u001b[38;5;124;03m    Load an SPSS file from the file path, returning a DataFrame.\u001b[39;00m\n\u001b[1;32m     30\u001b[0m \n\u001b[0;32m   (...)\u001b[0m\n\u001b[1;32m     56\u001b[0m \u001b[38;5;124;03m    >>> df = pd.read_spss(\"spss_data.sav\")  # doctest: +SKIP\u001b[39;00m\n\u001b[1;32m     57\u001b[0m \u001b[38;5;124;03m    \"\"\"\u001b[39;00m\n\u001b[0;32m---> 58\u001b[0m     pyreadstat \u001b[38;5;241m=\u001b[39m import_optional_dependency(\u001b[38;5;124m\"\u001b[39m\u001b[38;5;124mpyreadstat\u001b[39m\u001b[38;5;124m\"\u001b[39m)\n\u001b[1;32m     59\u001b[0m     check_dtype_backend(dtype_backend)\n\u001b[1;32m     61\u001b[0m     \u001b[38;5;28;01mif\u001b[39;00m usecols \u001b[38;5;129;01mis\u001b[39;00m \u001b[38;5;129;01mnot\u001b[39;00m \u001b[38;5;28;01mNone\u001b[39;00m:\n",
      "File \u001b[0;32m~/anaconda3/lib/python3.12/site-packages/pandas/compat/_optional.py:138\u001b[0m, in \u001b[0;36mimport_optional_dependency\u001b[0;34m(name, extra, errors, min_version)\u001b[0m\n\u001b[1;32m    136\u001b[0m \u001b[38;5;28;01mexcept\u001b[39;00m \u001b[38;5;167;01mImportError\u001b[39;00m:\n\u001b[1;32m    137\u001b[0m     \u001b[38;5;28;01mif\u001b[39;00m errors \u001b[38;5;241m==\u001b[39m \u001b[38;5;124m\"\u001b[39m\u001b[38;5;124mraise\u001b[39m\u001b[38;5;124m\"\u001b[39m:\n\u001b[0;32m--> 138\u001b[0m         \u001b[38;5;28;01mraise\u001b[39;00m \u001b[38;5;167;01mImportError\u001b[39;00m(msg)\n\u001b[1;32m    139\u001b[0m     \u001b[38;5;28;01mreturn\u001b[39;00m \u001b[38;5;28;01mNone\u001b[39;00m\n\u001b[1;32m    141\u001b[0m \u001b[38;5;66;03m# Handle submodules: if we have submodule, grab parent module from sys.modules\u001b[39;00m\n",
      "\u001b[0;31mImportError\u001b[0m: Missing optional dependency 'pyreadstat'.  Use pip or conda to install pyreadstat."
     ]
    }
   ],
   "source": [
    "#import data from SPSS\n",
    "\n",
    "pewdata = pd.read_spss('US Teens and their parents - 2019 Pew Research Survey - FOR RELEASE.sav')"
   ]
  },
  {
   "cell_type": "markdown",
   "metadata": {},
   "source": [
    "Let's explore `pewdata`"
   ]
  },
  {
   "cell_type": "code",
   "execution_count": 19,
   "metadata": {
    "code_folding": []
   },
   "outputs": [
    {
     "ename": "NameError",
     "evalue": "name 'pewdata' is not defined",
     "output_type": "error",
     "traceback": [
      "\u001b[0;31m---------------------------------------------------------------------------\u001b[0m",
      "\u001b[0;31mNameError\u001b[0m                                 Traceback (most recent call last)",
      "Cell \u001b[0;32mIn[19], line 3\u001b[0m\n\u001b[1;32m      1\u001b[0m \u001b[38;5;66;03m# view shape \u001b[39;00m\n\u001b[0;32m----> 3\u001b[0m pewdata\u001b[38;5;241m.\u001b[39mshape\n",
      "\u001b[0;31mNameError\u001b[0m: name 'pewdata' is not defined"
     ]
    }
   ],
   "source": [
    "# view shape \n",
    "\n",
    "pewdata.shape"
   ]
  },
  {
   "cell_type": "code",
   "execution_count": null,
   "metadata": {
    "code_folding": []
   },
   "outputs": [],
   "source": [
    "# view head\n",
    "\n",
    "pewdata.head()"
   ]
  },
  {
   "cell_type": "code",
   "execution_count": null,
   "metadata": {
    "scrolled": true
   },
   "outputs": [],
   "source": [
    "# view columns\n",
    "\n",
    "pewdata.columns"
   ]
  },
  {
   "cell_type": "code",
   "execution_count": null,
   "metadata": {
    "code_folding": []
   },
   "outputs": [],
   "source": [
    "# print all columns\n",
    "\n",
    "for col in pewdata.columns:\n",
    "    print(col)"
   ]
  },
  {
   "cell_type": "markdown",
   "metadata": {},
   "source": [
    "`describe()` method provides summary stats for numeric variables "
   ]
  },
  {
   "cell_type": "code",
   "execution_count": null,
   "metadata": {
    "code_folding": []
   },
   "outputs": [],
   "source": [
    "# use describe method\n",
    "\n",
    "pewdata.describe()"
   ]
  },
  {
   "cell_type": "code",
   "execution_count": null,
   "metadata": {
    "code_folding": []
   },
   "outputs": [],
   "source": [
    "# print all data types\n",
    "\n",
    "for i in pewdata.dtypes:\n",
    "    print(i)"
   ]
  },
  {
   "cell_type": "markdown",
   "metadata": {},
   "source": [
    "We only have three (we'll come back to the categories).  \n",
    "\n",
    "But are they useful?\n",
    "\n",
    "Lets look at `XPPRACE` and `PPMARIT` both here and in the codebook"
   ]
  },
  {
   "cell_type": "code",
   "execution_count": null,
   "metadata": {},
   "outputs": [],
   "source": [
    "pewdata.XPPRACEM"
   ]
  },
  {
   "cell_type": "markdown",
   "metadata": {},
   "source": [
    "When calling `describe()` on non-numeric, it will provide different statistics "
   ]
  },
  {
   "cell_type": "code",
   "execution_count": null,
   "metadata": {
    "code_folding": [],
    "scrolled": true
   },
   "outputs": [],
   "source": [
    "# describe() XPPRACEM\n",
    "\n",
    "pewdata.XPPRACEM.describe()"
   ]
  },
  {
   "cell_type": "markdown",
   "metadata": {},
   "source": [
    "To include all variables, add `include = 'all'` "
   ]
  },
  {
   "cell_type": "code",
   "execution_count": null,
   "metadata": {
    "code_folding": []
   },
   "outputs": [],
   "source": [
    "# describe() all columns\n",
    "\n",
    "pewdata.describe(include = 'all')"
   ]
  },
  {
   "cell_type": "markdown",
   "metadata": {},
   "source": [
    "`value_counts()` for categorical"
   ]
  },
  {
   "cell_type": "code",
   "execution_count": null,
   "metadata": {
    "code_folding": []
   },
   "outputs": [],
   "source": [
    "# value_counts() for XPPRACEM\n",
    "\n",
    "pewdata.XPPRACEM.value_counts()"
   ]
  },
  {
   "cell_type": "code",
   "execution_count": null,
   "metadata": {
    "code_folding": []
   },
   "outputs": [],
   "source": [
    "# view PPMARIT\n",
    "\n",
    "pewdata.PPMARIT"
   ]
  },
  {
   "cell_type": "code",
   "execution_count": null,
   "metadata": {
    "code_folding": []
   },
   "outputs": [],
   "source": [
    "# value_counts() for PPMARIT\n",
    "\n",
    "pewdata.PPMARIT.value_counts()"
   ]
  },
  {
   "cell_type": "markdown",
   "metadata": {},
   "source": [
    "#### Student Practice\n",
    "Pause the video and try to perform the following tasks on the `pewdata` dataset. Then check your answers as I walk through the solutions. \n",
    "\n",
    "**Exercise**: How many parents are agnostic while their children are Roman Catholic? \n",
    "\n",
    "\n",
    "I am intentionally not telling you the column names to look for as I want you to try to use the code book to figure this out.  This will be great practice in reading a code book or data dictionary.  Be careful with your lower and upper cases!"
   ]
  },
  {
   "cell_type": "code",
   "execution_count": null,
   "metadata": {
    "code_folding": []
   },
   "outputs": [],
   "source": [
    "### ENTER CODE HERE ###"
   ]
  },
  {
   "cell_type": "markdown",
   "metadata": {},
   "source": [
    "**Exercise:** Which five parent/child denomination combinations are largest?  In other words, group by the parent's denomination and then the teen's denomination and see which five combinations are the largest."
   ]
  },
  {
   "cell_type": "code",
   "execution_count": null,
   "metadata": {
    "code_folding": []
   },
   "outputs": [],
   "source": [
    "### ENTER CODE HERE ###"
   ]
  },
  {
   "cell_type": "markdown",
   "metadata": {},
   "source": [
    "# Let's recreate this!\n",
    "\n",
    "<img src='images/PF_09.10.20_religion.teens-00-0.webp' width = \"400\">\n",
    "<i>Image from <a href=\"https://www.pewresearch.org/religion/2020/09/10/u-s-teens-take-after-their-parents-religiously-attend-services-together-and-enjoy-family-rituals/\">Pew Research</a></i>\n"
   ]
  },
  {
   "cell_type": "markdown",
   "metadata": {},
   "source": [
    "Look at the codebook"
   ]
  },
  {
   "cell_type": "code",
   "execution_count": null,
   "metadata": {
    "code_folding": []
   },
   "outputs": [],
   "source": [
    "# value counts for Preltrad\n",
    "\n",
    "pewdata.Preltrad.value_counts()"
   ]
  },
  {
   "cell_type": "markdown",
   "metadata": {},
   "source": [
    "We want 'Evangelical Protestant', 'Mainline Protestant', 'Catholic', 'Unaffiliated' only"
   ]
  },
  {
   "cell_type": "code",
   "execution_count": null,
   "metadata": {
    "code_folding": []
   },
   "outputs": [],
   "source": [
    "# change values fit order in chart\n",
    "\n",
    "pewdata.loc[pewdata['Preltrad'] == 'Theologically Evangelical Protestant Churches', 'prelid'] = 1\n",
    "pewdata.loc[pewdata['Preltrad'] == 'Historic Mainline Protestant Churches', 'prelid'] = 2\n",
    "pewdata.loc[pewdata['Preltrad'] == 'Catholic', 'prelid'] = 3\n",
    "pewdata.loc[pewdata['Preltrad'] == 'Unaffiliated', 'prelid'] = 4\n",
    "\n",
    "pewdata.loc[pewdata['treltrad'] == 'Theologically Evangelical Protestant Churches', 'trelid'] = 1\n",
    "pewdata.loc[pewdata['treltrad'] == 'Historic Mainline Protestant Churches', 'trelid'] = 2\n",
    "pewdata.loc[pewdata['treltrad'] == 'Catholic', 'trelid'] = 3\n",
    "pewdata.loc[pewdata['treltrad'] == 'Unaffiliated', 'trelid'] = 4"
   ]
  },
  {
   "cell_type": "code",
   "execution_count": null,
   "metadata": {
    "code_folding": [],
    "scrolled": true
   },
   "outputs": [],
   "source": [
    "# crosstabs using our two variables\n",
    "\n",
    "pd.crosstab(pewdata.prelid, pewdata.trelid)"
   ]
  },
  {
   "cell_type": "markdown",
   "metadata": {},
   "source": [
    "Include `normalize = 'index'` to get percentages"
   ]
  },
  {
   "cell_type": "code",
   "execution_count": null,
   "metadata": {
    "code_folding": []
   },
   "outputs": [],
   "source": [
    "# add `normalize = 'index'` to get percentages, and round to two decimals\n",
    "\n",
    "our_table = pd.crosstab(pewdata.prelid, pewdata.trelid, normalize = 'index').round(2)\n",
    "our_table"
   ]
  },
  {
   "cell_type": "markdown",
   "metadata": {},
   "source": [
    "How accurate are we?"
   ]
  },
  {
   "cell_type": "markdown",
   "metadata": {},
   "source": [
    "<img src='images/PF_09.10.20_religion.teens-00-0.webp' width = \"300\" align = \"left\">\n"
   ]
  },
  {
   "cell_type": "code",
   "execution_count": null,
   "metadata": {
    "code_folding": []
   },
   "outputs": [],
   "source": [
    "# recreate the table in a DF\n",
    "\n",
    "pew_numbers = {1: [.80, .12, .01, .02], 2: [.06, .55, .01, .03],\n",
    "    3: [.01, .04, .81, .05], 4: [.12, .24, .15, .86]}\n",
    "\n",
    "pew_table = pd.DataFrame(data = pew_numbers, index = [1, 2, 3, 4], )\n",
    "pew_table"
   ]
  },
  {
   "cell_type": "code",
   "execution_count": null,
   "metadata": {
    "code_folding": [],
    "scrolled": true
   },
   "outputs": [],
   "source": [
    "# subtract their values from ours to two decimals\n",
    "\n",
    "(our_table - pew_table).round(2)"
   ]
  },
  {
   "cell_type": "markdown",
   "metadata": {},
   "source": [
    "## Categorical data\n",
    "\n",
    "Read more about categorical data from the [Pandas documentation](https://pandas.pydata.org/docs/user_guide/categorical.html)\n",
    "\n",
    "Categorical data used extensively in statistics.  \n",
    "\n",
    "Features:\n",
    "* categorical variables take on a limited, usually fixed, number of possible values\n",
    "* categorical variables can have an order (ordinal data)\n",
    "* all values are either in categories or np.nan\n",
    "* if an order is present (e.g., \"strongly agree\", \"agree\", \"neutral\", etc.), sorting will use the logical \n",
    "* especially useful in survey research"
   ]
  },
  {
   "cell_type": "code",
   "execution_count": null,
   "metadata": {
    "scrolled": true
   },
   "outputs": [],
   "source": [
    "# view annual household income of participating parent, PPINCIMPREC \n",
    "\n",
    "pewdata['PPINCIMPREC']"
   ]
  },
  {
   "cell_type": "code",
   "execution_count": null,
   "metadata": {},
   "outputs": [],
   "source": [
    "# PPINCIMPREC value counts\n",
    "\n",
    "pewdata['PPINCIMPREC'].value_counts()"
   ]
  },
  {
   "cell_type": "code",
   "execution_count": null,
   "metadata": {
    "scrolled": true
   },
   "outputs": [],
   "source": [
    "# sort PPINCIMPREC\n",
    "\n",
    "pewdata['PPINCIMPREC'].sort_values()"
   ]
  },
  {
   "cell_type": "markdown",
   "metadata": {},
   "source": [
    "To alleviate this, we use `reorder_categories`.\n",
    "\n",
    "In our case, we will use `pewdata['PPINCIMPREC'].cat.reorder_categories()` and a list of our values in order"
   ]
  },
  {
   "cell_type": "code",
   "execution_count": null,
   "metadata": {},
   "outputs": [],
   "source": [
    "# reorder categories\n",
    "\n",
    "pewdata['PPINCIMPREC'] = pewdata['PPINCIMPREC'].cat.reorder_categories(\n",
    "    ['Less than $30,000', '$30,000 to less than $75,000', '$75,000 or more'])"
   ]
  },
  {
   "cell_type": "code",
   "execution_count": null,
   "metadata": {
    "scrolled": true
   },
   "outputs": [],
   "source": [
    "# check values\n",
    "\n",
    "pewdata['PPINCIMPREC'].values"
   ]
  },
  {
   "cell_type": "code",
   "execution_count": null,
   "metadata": {
    "scrolled": true
   },
   "outputs": [],
   "source": [
    "# check sorted values\n",
    "\n",
    "pewdata['PPINCIMPREC'].sort_values()"
   ]
  },
  {
   "cell_type": "markdown",
   "metadata": {},
   "source": [
    "# Importance\n",
    "\n",
    "Let's turn to importance, and match the values from this:\n",
    "\n",
    "<img src='images/PF_09.10.20_religion.teens-00-1.jpg' width = \"400\">\n",
    "<i>Image from <a href=\"https://www.pewresearch.org/religion/2020/09/10/u-s-teens-take-after-their-parents-religiously-attend-services-together-and-enjoy-family-rituals/\">Pew Research</a></i>"
   ]
  },
  {
   "cell_type": "code",
   "execution_count": null,
   "metadata": {
    "code_folding": [],
    "scrolled": true
   },
   "outputs": [],
   "source": [
    "# importance value counts\n",
    "\n",
    "pewdata.PRELIMP.value_counts()"
   ]
  },
  {
   "cell_type": "code",
   "execution_count": null,
   "metadata": {
    "code_folding": []
   },
   "outputs": [],
   "source": [
    "# normalize value counts\n",
    "\n",
    "pewdata.PRELIMP.value_counts(normalize = True)"
   ]
  },
  {
   "cell_type": "code",
   "execution_count": null,
   "metadata": {
    "code_folding": []
   },
   "outputs": [],
   "source": [
    "# remove 'Refused' responses\n",
    "\n",
    "df3 = pewdata.loc[pewdata['PRELIMP'] != 'Refused']"
   ]
  },
  {
   "cell_type": "code",
   "execution_count": null,
   "metadata": {
    "code_folding": []
   },
   "outputs": [],
   "source": [
    "# normalized value counts, no refused\n",
    "\n",
    "df3.PRELIMP.value_counts(normalize = True)"
   ]
  },
  {
   "cell_type": "code",
   "execution_count": null,
   "metadata": {
    "code_folding": []
   },
   "outputs": [],
   "source": [
    "# remove 'Refused' for teens\n",
    "\n",
    "df4 = pewdata.loc[pewdata['TRELIMP'] != 'Refused']"
   ]
  },
  {
   "cell_type": "code",
   "execution_count": null,
   "metadata": {
    "code_folding": [],
    "scrolled": true
   },
   "outputs": [],
   "source": [
    "# normalized value counts for teens, no refused\n",
    "\n",
    "df4.TRELIMP.value_counts(normalize = True)"
   ]
  },
  {
   "cell_type": "markdown",
   "metadata": {},
   "source": [
    "# Percent of teens holding same religoius beliefs as parents\n",
    "\n",
    "\n",
    "\n",
    "<img src='images/PF_09.10.20_religion.teens-00-2.webp' width = \"400\">\n",
    "<i>Image from <a href=\"https://www.pewresearch.org/religion/2020/09/10/u-s-teens-take-after-their-parents-religiously-attend-services-together-and-enjoy-family-rituals/\">Pew Research</a></i>\n",
    "\n",
    "Let's first look to the first percentages\n",
    "\n",
    "To the codebook!"
   ]
  },
  {
   "cell_type": "code",
   "execution_count": null,
   "metadata": {
    "code_folding": []
   },
   "outputs": [],
   "source": [
    "# value counts \n",
    "\n",
    "pewdata.TPARRELIG1.value_counts(normalize = True).round(2)"
   ]
  },
  {
   "cell_type": "markdown",
   "metadata": {},
   "source": [
    "\"...but among teens who say their beliefs differ, a third say the parent is unaware\"\n",
    "\n",
    "How should we examine this?\n",
    "\n",
    "1. Select only those who say beliefs differ\n",
    "2. Find question on awareness, and split.\n",
    "\n",
    "To the codebook!"
   ]
  },
  {
   "cell_type": "code",
   "execution_count": null,
   "metadata": {
    "code_folding": []
   },
   "outputs": [],
   "source": [
    "# value counts\n",
    "\n",
    "pewdata.TPARRELIG2.value_counts()"
   ]
  },
  {
   "cell_type": "code",
   "execution_count": null,
   "metadata": {
    "code_folding": []
   },
   "outputs": [],
   "source": [
    "# normalized value counts\n",
    "\n",
    "pewdata['TPARRELIG2'].value_counts(normalize=True).round(2)"
   ]
  },
  {
   "cell_type": "markdown",
   "metadata": {},
   "source": [
    "## Further Analysis\n",
    "\n",
    "As we have said many times, this course is meant for you to have time to practice a lot on your own.  This truly is how you are going to grow in your data manipulation knowledge.\n",
    "\n",
    "I suggest that you take time to do further analysis with this data and see if you can replicate some of the other Pew analysis from the article.  Also, this would be a great time to practice your data visualization skills as well.  Uploading the work you do with this dataset to Github will show your current or respective employers the type of quality work that you can do!"
   ]
  }
 ],
 "metadata": {
  "kernelspec": {
   "display_name": "Python [conda env:anaconda3] *",
   "language": "python",
   "name": "conda-env-anaconda3-py"
  },
  "language_info": {
   "codemirror_mode": {
    "name": "ipython",
    "version": 3
   },
   "file_extension": ".py",
   "mimetype": "text/x-python",
   "name": "python",
   "nbconvert_exporter": "python",
   "pygments_lexer": "ipython3",
   "version": "3.12.7"
  }
 },
 "nbformat": 4,
 "nbformat_minor": 4
}
